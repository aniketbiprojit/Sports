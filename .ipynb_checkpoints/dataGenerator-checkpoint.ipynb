{
 "cells": [
  {
   "cell_type": "code",
   "execution_count": 1,
   "metadata": {},
   "outputs": [],
   "source": [
    "Houses = ['Keen Kickers','Heroic Hearts','Mighty Boltz','Super Spades']\n",
    "Courses = ['B. Tech','BAJMC','BBA','BA LLB','BBA LLB']\n",
    "Years = ['2016','2017','2018','2019']"
   ]
  },
  {
   "cell_type": "code",
   "execution_count": 2,
   "metadata": {},
   "outputs": [
    {
     "name": "stdout",
     "output_type": "stream",
     "text": [
      "Collecting names\n",
      "  Downloading https://files.pythonhosted.org/packages/44/4e/f9cb7ef2df0250f4ba3334fbdabaa94f9c88097089763d8e85ada8092f84/names-0.3.0.tar.gz (789kB)\n",
      "Building wheels for collected packages: names\n",
      "  Building wheel for names (setup.py): started\n",
      "  Building wheel for names (setup.py): finished with status 'done'\n",
      "  Created wheel for names: filename=names-0.3.0-cp35-none-any.whl size=803466 sha256=47c9dba22919badf8110a345223abf05d3fba8c3737b6789a1442f5d58cf2bcf\n",
      "  Stored in directory: C:\\Users\\Aniket\\AppData\\Local\\pip\\Cache\\wheels\\f9\\a5\\e1\\be3e0aaa6fa285575078fa2aafd9959b45bdbc8de8a6803aeb\n",
      "Successfully built names\n",
      "Installing collected packages: names\n",
      "Successfully installed names-0.3.0\n"
     ]
    }
   ],
   "source": [
    "!pip install names"
   ]
  },
  {
   "cell_type": "code",
   "execution_count": 30,
   "metadata": {
    "scrolled": false
   },
   "outputs": [],
   "source": [
    "import random\n",
    "import numpy as np\n",
    "import pandas as pd\n",
    "\n",
    "arr=[]\n",
    "\n",
    "for i in range(500):\n",
    "    a=[]\n",
    "    a.append(names.get_full_name())\n",
    "    a.append(Houses[random.randint(0,3)])\n",
    "    a.append(Courses[random.randint(0,3)])\n",
    "    a.append(Years[random.randint(0,3)])\n",
    "    a.append('')\n",
    "    a=np.asarray(a)\n",
    "    arr.append(a)"
   ]
  },
  {
   "cell_type": "code",
   "execution_count": 36,
   "metadata": {},
   "outputs": [
    {
     "data": {
      "text/plain": [
       "array([['Ernest Walker', 'Heroic Hearts', 'B. Tech', '2016', ''],\n",
       "       ['Leland Svoboda', 'Super Spades', 'BAJMC', '2018', ''],\n",
       "       ['Minnie Bevington', 'Heroic Hearts', 'BA LLB', '2018', ''],\n",
       "       ...,\n",
       "       ['Patrica Dennis', 'Heroic Hearts', 'BAJMC', '2018', ''],\n",
       "       ['David Morelock', 'Super Spades', 'BA LLB', '2018', ''],\n",
       "       ['Raul Washington', 'Mighty Boltz', 'BA LLB', '2017', '']],\n",
       "      dtype='<U20')"
      ]
     },
     "execution_count": 36,
     "metadata": {},
     "output_type": "execute_result"
    }
   ],
   "source": [
    "arr=np.asarray(arr)\n",
    "arr"
   ]
  },
  {
   "cell_type": "code",
   "execution_count": 38,
   "metadata": {},
   "outputs": [],
   "source": [
    "df=pd.DataFrame(arr,columns=['Name','House','Course','Year','About'])"
   ]
  },
  {
   "cell_type": "code",
   "execution_count": 40,
   "metadata": {},
   "outputs": [],
   "source": [
    "df.to_csv('players.csv',index=None)"
   ]
  },
  {
   "cell_type": "code",
   "execution_count": null,
   "metadata": {},
   "outputs": [],
   "source": []
  }
 ],
 "metadata": {
  "kernelspec": {
   "display_name": "Python 3",
   "language": "python",
   "name": "python3"
  },
  "language_info": {
   "codemirror_mode": {
    "name": "ipython",
    "version": 3
   },
   "file_extension": ".py",
   "mimetype": "text/x-python",
   "name": "python",
   "nbconvert_exporter": "python",
   "pygments_lexer": "ipython3",
   "version": "3.5.6"
  }
 },
 "nbformat": 4,
 "nbformat_minor": 2
}
